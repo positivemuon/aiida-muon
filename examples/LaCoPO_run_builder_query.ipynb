{
 "cells": [
  {
   "cell_type": "markdown",
   "id": "fe38c6e4",
   "metadata": {},
   "source": [
    "## Loading the modules"
   ]
  },
  {
   "cell_type": "code",
   "execution_count": 14,
   "id": "b79a6f8f",
   "metadata": {},
   "outputs": [
    {
     "data": {
      "text/plain": [
       "Profile<uuid='130cdd60826f460f966c893aac81fd10' name='ifeanyi'>"
      ]
     },
     "execution_count": 14,
     "metadata": {},
     "output_type": "execute_result"
    }
   ],
   "source": [
    "# Loading the aiida profile.\n",
    "import numpy as np\n",
    "from aiida import load_profile, orm\n",
    "from aiida.engine import submit, run_get_node\n",
    "from aiida.plugins import DataFactory\n",
    "from pymatgen.core import Structure\n",
    "from pymatgen.io.cif import CifParser\n",
    "from aiida_impuritysupercellconv.workflows.impuritysupercellconv import IsolatedImpurityWorkChain\n",
    "from aiida_muon.workflows.find_muon import FindMuonWorkChain\n",
    "\n",
    "load_profile()"
   ]
  },
  {
   "cell_type": "markdown",
   "id": "d2e4349e",
   "metadata": {},
   "source": [
    "## Setting the data"
   ]
  },
  {
   "cell_type": "code",
   "execution_count": 15,
   "id": "c9030db3",
   "metadata": {},
   "outputs": [
    {
     "name": "stderr",
     "output_type": "stream",
     "text": [
      "/home/ifeanyi/anaconda3/envs/aiidadev/lib/python3.11/site-packages/pymatgen/io/cif.py:1225: UserWarning: Issues encountered while parsing CIF: Skipping relative stoichiometry check because CIF does not contain formula keys.\n",
      "  warnings.warn(\"Issues encountered while parsing CIF: \" + \"\\n\".join(self.warnings))\n"
     ]
    }
   ],
   "source": [
    "# StructureData and magmom.\n",
    "\n",
    "py_struc = Structure.from_file(\"data/LaCoPO_bcs_file_26735.mcif\", primitive=False)\n",
    "aiida_structure = orm.StructureData(pymatgen=py_struc)\n",
    "smag = aiida_structure.get_pymatgen_structure()\n",
    "magmoms = py_struc.site_properties[\"magmom\"]\n",
    "magmom = orm.List([list(magmom) for magmom in magmoms])\n",
    "\n",
    "#\n",
    "codename = \"pw_7.3.1@leonardo_core2\"  # edit \n",
    "code = orm.load_code(codename)\n",
    "#\n",
    "pp_codename = \"pp_7.3.1@leonardo_core2\"  # edit\n",
    "pp_code = orm.load_code(pp_codename)\n",
    "\n",
    "\n",
    "\n",
    "\n",
    "# Metadata dictionary with a minimal computational settings.\n",
    "metadata = {\n",
    "    'options':{\n",
    "        'resources' : {\n",
    "            'num_machines': 1,\n",
    "            'num_mpiprocs_per_machine': 112,\n",
    "            },\n",
    "        },\n",
    "    'description': \"FindMuonWorkChain via protocols\"+ py_struc.formula,\n",
    "    }\n",
    "\n",
    "metadatapp = {\n",
    "    'options':{\n",
    "        'resources' : {\n",
    "            'num_machines': 1,\n",
    "            'num_mpiprocs_per_machine': 1,\n",
    "            },\n",
    "        },\n",
    "    'description': \"PP via protocols\"+ py_struc.formula,\n",
    "    }\n",
    "\n",
    "metadatarlx = {\n",
    "    'options':{\n",
    "        'resources' : {\n",
    "            'num_machines': 1,\n",
    "            'num_mpiprocs_per_machine': 24,\n",
    "            },\n",
    "        },\n",
    "    'description': \"relax in isolatedimpurity via protocols\"+ py_struc.formula,\n",
    "    }\n",
    "\n",
    "\n",
    "pw_settings = {#\"ONLY_INITIALIZATION\": False,\n",
    "              \"cmdline\": [\"-nk\", \"2\", \"-ndiag\", \"1\"]}\n"
   ]
  },
  {
   "cell_type": "code",
   "execution_count": null,
   "id": "58780e05",
   "metadata": {},
   "outputs": [],
   "source": [
    "#README: BELOW IS THE LIST OF INPUT PARAMETERS THAT CAN BE DEFINED WITHIN THE BUILDER\n",
    "\"\"\"\n",
    "        pw_code,                                                                                           \n",
    "        structure:                                       \n",
    "        pp_code: orm.Code = None,                                    \n",
    "        protocol: str =None,\n",
    "        overrides: dict = {},             #prodide paramater dictionary to overide default settings     \n",
    "        relax_unitcell: bool =False,      #if TRUE the input cell is first relaxed in the Isolatedimpurityworkchian  \n",
    "        conv_thr: float = 0.0257,         # threshold for force convergence in the Isolatedimpurityworkchian\n",
    "        magmom: list = None,              #List of 3D magnetic moments in Bohr magneton of the corresponding input structure, if not provided structure is assumed not magnetic\n",
    "        options=None,\n",
    "        sc_matrix: list =None,            #if Supercell matrix is not proovided the Isolatedimpurityworkchian is called to find it\n",
    "        mu_spacing: float =1.0,           # Minimum distance in Angstrom between two starting muon positions  generated on a grid.\n",
    "        kpoints_distance: float =0.301,   # The minimum desired distance in 1/Å between k-points in reciprocal space\n",
    "        charge_supercell: bool =True,     #To run charged supercell for positive muon or not (neutral supercell) \n",
    "        hubbard: bool = True,             #To check and activate  DFT+U if Hubbard U value is found in the default dictionary\n",
    "        spin_pol_dft: bool = True,        #Spin-polarised DFT simulation or not\n",
    "        pseudo_family: str =\"SSSP/1.2/PBE/efficiency\",  #The label of the pseudo family\n",
    "        **kwargs,\n",
    "\"\"\""
   ]
  },
  {
   "cell_type": "markdown",
   "id": "7e208121",
   "metadata": {},
   "source": [
    "## (1) Getting the builder from *get_builder_from_protocol()* function.\n"
   ]
  },
  {
   "cell_type": "code",
   "execution_count": 7,
   "id": "e93b8875",
   "metadata": {},
   "outputs": [],
   "source": [
    "builder = FindMuonWorkChain.get_builder_from_protocol(\n",
    "    pw_code=code,\n",
    "    pp_code = pp_code,\n",
    "    structure = aiida_structure,\n",
    "    magmom = magmom,\n",
    "    hubbard = True,\n",
    "    pseudo_family = 'SSSP/1.3/PBE/efficiency',\n",
    "    )\n",
    "\n",
    "builder.pwscf.pw.metadata = metadata\n",
    "\n",
    "builder.relax.base.pw.metadata = metadata\n",
    "\n",
    "builder.pp_metadata = metadatapp\n",
    "\n",
    "builder.pwscf.pw.settings = orm.Dict(pw_settings)  \n",
    "builder.relax.base.pw.settings = orm.Dict(pw_settings)\n",
    "#builder.qe_settings = orm.Dict(pw_settings)  #also works\n",
    "\n",
    "\n",
    "\"\"\"Here, since the sc_matrix is not provided in the input, the workchain\n",
    "automatically calls the IsolatedImpurityWorkChain to find the converged supercell.\n",
    "Hence, the metadata for the calculations are to be defined.\"\"\"\n",
    "\n",
    "#bulder.impuritysupercellconv_metadata = metadata #also works\n",
    "\n",
    "if 'impuritysupercellconv' in builder: # i.e. sc_matrix = None\n",
    "    builder.impuritysupercellconv.pwscf.pw.metadata = metadata\n",
    "    builder.impuritysupercellconv.pwscf.pw.settings = orm.Dict(pw_settings)\n",
    "    if 'relax' in builder.impuritysupercellconv: # i.e. relax_musconv = True\n",
    "        builder.impuritysupercellconv.relax.base.pw.metadata = metadatarlx\n",
    "        builder.impuritysupercellconv.relax.base.pw.settings = orm.Dict(pw_settings)"
   ]
  },
  {
   "cell_type": "code",
   "execution_count": 8,
   "id": "a0297308",
   "metadata": {
    "scrolled": true
   },
   "outputs": [
    {
     "data": {
      "text/plain": [
       "28394"
      ]
     },
     "execution_count": 8,
     "metadata": {},
     "output_type": "execute_result"
    }
   ],
   "source": [
    "#UNCOMMENT below TO run the calculations\n",
    "\n",
    "#submission = submit(builder)\n",
    "#submission.pk"
   ]
  },
  {
   "cell_type": "markdown",
   "id": "565d5f18",
   "metadata": {},
   "source": [
    "# (2) Some lines to query and get the results after the calculations"
   ]
  },
  {
   "cell_type": "code",
   "execution_count": 19,
   "id": "44173df2",
   "metadata": {},
   "outputs": [
    {
     "name": "stdout",
     "output_type": "stream",
     "text": [
      "The supercell-Matrix is[[3, 0, 0], [0, 3, 0], [0, 0, 2]]\n"
     ]
    }
   ],
   "source": [
    "#READ RESULTS\n",
    "\n",
    "node=orm.load_node(28394) #findmuonworkchain\n",
    "\n",
    "#outputs and inputs\n",
    "uuid_dict=node.outputs.all_index_uuid.get_dict()\n",
    "allsites_dict=node.outputs.all_sites.get_dict()\n",
    "uniquesites_dict=node.outputs.unique_sites.get_dict()\n",
    "input_strc = node.inputs.structure.get_pymatgen_structure()\n",
    "input_str=input_strc.copy()\n",
    "\n",
    "#sc_matrix= node.inputs.sc_matrix\n",
    "\n",
    "node4=orm.load_node(28395) #isolated impurity workchain\n",
    "sc_mat_array =node4.outputs.Converged_SCmatrix.get_array('sc_mat')\n",
    "sc_matrix = sc_mat_array.tolist()\n",
    "print(\"The supercell-Matrix is\"+str(sc_matrix[:]))\n"
   ]
  },
  {
   "cell_type": "code",
   "execution_count": 21,
   "id": "61e3c5cc",
   "metadata": {},
   "outputs": [
    {
     "name": "stdout",
     "output_type": "stream",
     "text": [
      "# site-label energy-diff(eV).\n",
      "H1 0.4817930600256659\n",
      "H3 0.0\n",
      "H4 0.3722669699927792\n",
      "H8 0.19405580998864025\n",
      "H10 0.37221458001295105\n",
      "H11 0.19404954998753965\n",
      "H13 0.4892155000125058\n",
      "H17 0.37230356002692133\n",
      "H19 0.19402995001291856\n"
     ]
    }
   ],
   "source": [
    "#PRINT MAGNETIC SYMMETRY UNIQUE SITES\n",
    "\n",
    "e_min=np.min([uniquesites_dict[key][1] for key in uniquesites_dict])\n",
    "#fo=open('unique_energy_list.txt','w')              #uncomment to write to files\n",
    "#fo.write(\"# site-label        energy(eV)      energy-diff(eV). The supercell-Matrix is\"+str(sc_matrix[:])+\"\\n\")\n",
    "print(\"# site-label energy-diff(eV).\")\n",
    "\n",
    "for key in uniquesites_dict:\n",
    "    print(\"H\"+key, (uniquesites_dict[key][1]-e_min))\n",
    "    #fo.write(\"%s %16f %16f \\n \"%  (\"H\"+key, uniquesites_dict[key][1], (uniquesites_dict[key][1]-e_min)))\n",
    "    py_struc = Structure.from_dict(uniquesites_dict[key][0])\n",
    "    musite = py_struc.frac_coords[py_struc.atomic_numbers.index(1)]\n",
    "    mupos = np.dot(musite,sc_matrix)%1\n",
    "    input_str.append(species = \"H\"+key, coords = mupos, coords_are_cartesian = False, validate_proximity = False)\n",
    "    #py_struc.to(filename=\"H\"+key+\".cif\".format())           #uncomment to write to cif\n",
    "#fo.close()\n",
    "#input_str.to(filename=\"unique_mu_in_inputcell.cif\".format())  #uncomment to write to cif"
   ]
  },
  {
   "cell_type": "code",
   "execution_count": 16,
   "id": "940ff796",
   "metadata": {},
   "outputs": [
    {
     "name": "stdout",
     "output_type": "stream",
     "text": [
      "label, B_hf (T), Bdip_vec (T), |B_tot (T)| = Bdip+ B_hf\n",
      "H1 0.001064440986002 [0.00023819848011351, 0.00023819848011351, 0.052853729488549] 0.053919222772168\n",
      "H3 -0.2099416114742 [-1.0479204921601e-06, -1.047920492166e-06, 0.044366871457889] 0.16557474002294\n",
      "H4 -0.4817353080231 [0.018312608852916, 0.018312608852916, -0.049718087441246] 0.53208402986425\n",
      "H8 -0.4718784020351 [-2.2018730625083e-06, -0.0020817400694329, 0.16350942918333] 0.30837599949448\n",
      "H10 -0.4818821130059 [-0.018363510765676, 0.018547175529862, -0.050083140830619] 0.53260515162466\n",
      "H11 -0.4724603789312 [0.00060036484675582, -6.9743273577443e-05, 0.16353330769812] 0.30892766247573\n",
      "H13 -0.002484307321433 [0.00039694354726544, 2.4838969014797e-07, 0.053241464408579] 0.05075870920158\n",
      "H17 -0.482464089902 [-0.018164700858855, -0.018164700858854, -0.049664801149795] 0.53274859869041\n",
      "H19 -0.4722768727027 [-0.00066496764291781, -3.0311164204779e-07, 0.16350731404185] 0.30877027469897\n"
     ]
    }
   ],
   "source": [
    "# PRINT FIELD CONTRIBUTION ONLY IF MAGNETIC\n",
    "\n",
    "unique_hf_dict=node.outputs.unique_sites_hyperfine.get_dict()\n",
    "unique_dip_list=node.outputs.unique_sites_dipolar\n",
    "\n",
    "print('label, B_hf (T), Bdip_vec (T), |B_tot (T)| = Bdip+ B_hf')\n",
    "for key in unique_hf_dict:\n",
    "    for i in range(len(unique_dip_list)):\n",
    "        if str(unique_dip_list[i]['idx'])== key:\n",
    "            Bdip= unique_dip_list[i]['Bdip']\n",
    "            Btot=unique_dip_list[i]['B_T_norm']\n",
    "    print(\"H\"+key, unique_hf_dict[key][1], Bdip,Btot)"
   ]
  },
  {
   "cell_type": "code",
   "execution_count": 22,
   "id": "8feeb688",
   "metadata": {},
   "outputs": [
    {
     "name": "stdout",
     "output_type": "stream",
     "text": [
      "H1 0.4817930600256659\n",
      "H2 0.4817627199809067\n",
      "H3 0.0\n",
      "H4 0.3722669699927792\n",
      "H5 0.37224342999979854\n",
      "H6 0.489223119977396\n",
      "H7 -1.360021997243166e-06\n",
      "H8 0.19405580998864025\n",
      "H9 0.1940408400259912\n",
      "H10 0.37221458001295105\n",
      "H11 0.19404954998753965\n",
      "H12 0.19402464997256175\n",
      "H13 0.4892155000125058\n",
      "H14 3.809982445091009e-06\n",
      "H15 1.3330020010471344e-05\n",
      "H16 2.0400038920342922e-06\n",
      "H17 0.37230356002692133\n",
      "H18 0.3722645199741237\n",
      "H19 0.19402995001291856\n",
      "H20 0.19402941002044827\n"
     ]
    }
   ],
   "source": [
    "#PRINT ALL THe SITES\n",
    "\n",
    "input_str=input_strc.copy()\n",
    "\n",
    "#fo=open('all_energy_list.txt','w') #uncomment to write to file\n",
    "#fo.write(\"# site-label        energy(eV)      energy-diff(eV). The supercell-Matrix is\"+str(sc_matrix[:])+\"\\n\")\n",
    "for key in allsites_dict:\n",
    "    print(\"H\"+key, (allsites_dict[key][1]-e_min))\n",
    "    #fo.write(\"%s %16f %16f \\n \"%  (\"H\"+key, allsites_dict[key][1], (allsites_dict[key][1]-e_min)))\n",
    "    py_struc = Structure.from_dict(allsites_dict[key][0])\n",
    "    musite = py_struc.frac_coords[py_struc.atomic_numbers.index(1)]\n",
    "    mupos = np.dot(musite,sc_matrix)%1\n",
    "    input_str.append(species = \"H\"+key, coords = mupos, coords_are_cartesian = False, validate_proximity = False)\n",
    "    #py_struc.to(filename=\"H\"+key+\".cif\".format()) #uncomment to write to cif\n",
    "\n",
    "#fo.close()\n",
    "#input_str.to(filename=\"all_converged_sites_in_inputcell.cif\".format()) #uncomment to write to cif"
   ]
  }
 ],
 "metadata": {
  "kernelspec": {
   "display_name": "Python 3 (ipykernel)",
   "language": "python",
   "name": "python3"
  },
  "language_info": {
   "codemirror_mode": {
    "name": "ipython",
    "version": 3
   },
   "file_extension": ".py",
   "mimetype": "text/x-python",
   "name": "python",
   "nbconvert_exporter": "python",
   "pygments_lexer": "ipython3",
   "version": "3.11.0"
  }
 },
 "nbformat": 4,
 "nbformat_minor": 5
}
