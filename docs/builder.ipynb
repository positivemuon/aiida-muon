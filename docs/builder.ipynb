{
 "cells": [
  {
   "cell_type": "code",
   "execution_count": 5,
   "metadata": {},
   "outputs": [],
   "source": [
    "# Loading the aiida profile.\n",
    "from aiida import load_profile, orm\n",
    "load_profile()\n",
    "\n",
    "# Loading other additional aiida modules.\n",
    "from aiida.engine import submit, run_get_node\n",
    "from aiida.plugins import DataFactory\n",
    "\n",
    "# Loading the pymatgen Structure module; not mandatory.\n",
    "from pymatgen.core import Structure\n",
    "\n",
    "# Loading the WorkChain.\n",
    "from aiida_muon.workflows.find_muon import FindMuonWorkChain"
   ]
  },
  {
   "cell_type": "code",
   "execution_count": 6,
   "metadata": {},
   "outputs": [
    {
     "name": "stderr",
     "output_type": "stream",
     "text": [
      "/opt/conda/lib/python3.9/site-packages/pymatgen/core/structure.py:3083: EncodingWarning: We strongly encourage explicit `encoding`, and we would use UTF-8 by default as per PEP 686\n",
      "  with zopen(filename, mode=\"rt\", errors=\"replace\") as file:\n"
     ]
    }
   ],
   "source": [
    "# StructureData and magmom.\n",
    "smag1 = Structure.from_file(\"/home/jovyan/bind_mount/codes/aiida-muon/examples/data/MnO.mcif\", primitive=False)\n",
    "aiida_structure = orm.StructureData(pymatgen=smag1)\n",
    "\n",
    "magmoms = smag1.site_properties[\"magmom\"]\n",
    "magmom = [list(magmom) for magmom in magmoms]\n",
    "\n",
    "# Supercell Matrix and other relevant inputs.\n",
    "sc_matrix = [[1, 0, 0], [0, 1, 0], [0, 0, 1]]\n",
    "mu_spacing = 1.0\n",
    "kpoints_distance = 2.0\n",
    "charge_supercell = True\n",
    "\n",
    "# Codes.\n",
    "codename = \"pw-7.3@thor_1-6_final\"  # edit \n",
    "code = orm.load_code(codename)\n",
    "pp_codename = \"pp-7.3@thor_1-6_final\"  # edit \n",
    "pp_code = orm.load_code(pp_codename)\n",
    "\n",
    "# Resources dictionary with a minimal computational settings.\n",
    "resources = {\n",
    "    \"num_machines\": 1,\n",
    "    \"num_mpiprocs_per_machine\": 48,\n",
    "}"
   ]
  },
  {
   "cell_type": "code",
   "execution_count": 9,
   "metadata": {},
   "outputs": [
    {
     "name": "stdout",
     "output_type": "stream",
     "text": [
      "{'Mn1': 5, 'Mn2': 5} {'Mn': 5}\n"
     ]
    }
   ],
   "source": [
    "builder = FindMuonWorkChain.get_builder_from_protocol(\n",
    "    pw_code=code,\n",
    "    pp_code = pp_code,\n",
    "    structure = aiida_structure, # orm.load_node(21259), # <- LiF\n",
    "    magmom = magmom,\n",
    "    hubbard=True,\n",
    "    hubbard_dict = {\"Mn\":5},\n",
    "    sc_matrix = sc_matrix,\n",
    "    mu_spacing = mu_spacing,\n",
    "    kpoints_distance = kpoints_distance,\n",
    "    charge_supercell = charge_supercell,\n",
    "    pseudo_family = \"SSSP/1.3/PBE/efficiency\",\n",
    "    enforce_defaults = True, # if True, it will set some default parameter.\n",
    "    )\n",
    "\n",
    "builder.pwscf.pw.metadata.options.resources = resources\n",
    "builder.pwscf.pw.metadata.options.prepend_text = \"export OMP_NUM_THREADS=1\"\n",
    "\n",
    "builder.relax.base.pw.metadata.options.resources = resources\n",
    "builder.relax.base.pw.metadata.options.prepend_text = \"export OMP_NUM_THREADS=1\"\n",
    "\n",
    "builder.impuritysupercellconv_metadata = {\"options\":{\n",
    "    'resources':resources,\n",
    "    'prepend_text':\"export OMP_NUM_THREADS=1\",\n",
    "    },}\n",
    "\n",
    "builder.pp_metadata = {\"options\":{\n",
    "    'resources':resources,\n",
    "    'prepend_text':\"export OMP_NUM_THREADS=1\",\n",
    "    'max_wallclock_seconds': 1*60*60, # 1h\n",
    "    },}"
   ]
  }
 ],
 "metadata": {
  "kernelspec": {
   "display_name": "base",
   "language": "python",
   "name": "python3"
  },
  "language_info": {
   "codemirror_mode": {
    "name": "ipython",
    "version": 3
   },
   "file_extension": ".py",
   "mimetype": "text/x-python",
   "name": "python",
   "nbconvert_exporter": "python",
   "pygments_lexer": "ipython3",
   "version": "3.9.13"
  }
 },
 "nbformat": 4,
 "nbformat_minor": 2
}
