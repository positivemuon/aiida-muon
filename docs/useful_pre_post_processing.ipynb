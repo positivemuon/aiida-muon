{
 "cells": [
  {
   "cell_type": "markdown",
   "metadata": {},
   "source": [
    "# How to pre- and post- process data\n",
    "\n",
    "Here below we present some functions that can be used to have more insights into both the inputs (e.g. number of trial sites) and outputs (e.g. distortions induced by the muon)."
   ]
  },
  {
   "cell_type": "code",
   "execution_count": 1,
   "metadata": {},
   "outputs": [],
   "source": [
    "from aiida import orm,load_profile\n",
    "load_profile()\n",
    "\n",
    "import numpy as np\n",
    "\n",
    "from aiida_muon.utils.sites_supercells import niche_add_impurities, gensup, compute_suggest_supercell_size"
   ]
  },
  {
   "cell_type": "code",
   "execution_count": 2,
   "metadata": {},
   "outputs": [],
   "source": [
    "structure = orm.load_node(21259) # <- LiF"
   ]
  },
  {
   "cell_type": "markdown",
   "metadata": {},
   "source": [
    "#### Hint on the supercell size"
   ]
  },
  {
   "cell_type": "code",
   "execution_count": 3,
   "metadata": {},
   "outputs": [
    {
     "name": "stdout",
     "output_type": "stream",
     "text": [
      "Suggested supercell size: [3, 3, 3]\n",
      "Ready to be used in FindMuonWorkChain: [[3, 0, 0], [0, 3, 0], [0, 0, 3]]\n"
     ]
    }
   ],
   "source": [
    "# suggest supercell size\n",
    "suggested_size = compute_suggest_supercell_size(structure.get_ase())\n",
    "print(f\"Suggested supercell size: {suggested_size}\")\n",
    "print(f\"Ready to be used in FindMuonWorkChain: {[[suggested_size[0], 0,0], [0, suggested_size[1], 0], [0, 0, suggested_size[2]]]}\")"
   ]
  },
  {
   "cell_type": "markdown",
   "metadata": {},
   "source": [
    "#### Estimation of the number of muon trial sites"
   ]
  },
  {
   "cell_type": "code",
   "execution_count": 4,
   "metadata": {},
   "outputs": [
    {
     "name": "stdout",
     "output_type": "stream",
     "text": [
      "Number of trial sites for mu_spacing=1 Angstrom: \n",
      "4\n"
     ]
    }
   ],
   "source": [
    "# number of trial sites for a given mu_spacing\n",
    "mu_spacing = 1\n",
    "mu_list = niche_add_impurities(\n",
    "    structure.get_pymatgen_structure(),\n",
    "    niche_atom = \"H\",\n",
    "    niche_spacing = mu_spacing,\n",
    "    niche_distance = 1, # distance from hosting atoms,\n",
    ")\n",
    "\n",
    "print(f\"Number of trial sites for mu_spacing={mu_spacing} Angstrom: \\n{len(mu_list)}\")"
   ]
  },
  {
   "cell_type": "markdown",
   "metadata": {},
   "source": [
    "#### Generation of the supercell with the impurity"
   ]
  },
  {
   "cell_type": "code",
   "execution_count": 5,
   "metadata": {},
   "outputs": [
    {
     "name": "stdout",
     "output_type": "stream",
     "text": [
      "Supercell matrix: [[3, 0, 0], [0, 3, 0], [0, 0, 3]]\n",
      "Muon spacing: 1\n",
      "Supercells (or equivalently, number of candidate muon sites): 4\n"
     ]
    }
   ],
   "source": [
    "# generate the supercell structures with the muon inside\n",
    "\n",
    "# 1 get sc_matrix\n",
    "suggested_size = compute_suggest_supercell_size(structure.get_ase())\n",
    "sc_matrix = [[suggested_size[0], 0,0], [0, suggested_size[1], 0], [0, 0, suggested_size[2]]]\n",
    "\n",
    "# 2 get the muon list\n",
    "mu_spacing = 1\n",
    "mu_list = niche_add_impurities(\n",
    "    structure.get_pymatgen_structure(),\n",
    "    niche_atom = \"H\",\n",
    "    niche_spacing = mu_spacing,\n",
    "    niche_distance = 1, # distance from hosting atoms,\n",
    ")\n",
    "\n",
    "# 3 produce the supercells\n",
    "supc_list = gensup(structure.get_pymatgen_structure(), mu_list, sc_matrix)\n",
    "\n",
    "assert len(supc_list) == len(mu_list)\n",
    "print(f\"Supercell matrix: {sc_matrix}\")\n",
    "print(f\"Muon spacing: {mu_spacing}\")\n",
    "print(f\"Supercells (or equivalently, number of candidate muon sites): {len(supc_list)}\")"
   ]
  },
  {
   "cell_type": "markdown",
   "metadata": {},
   "source": [
    "#### Generating an undistorted supercell with all the muon inside"
   ]
  },
  {
   "cell_type": "code",
   "execution_count": 6,
   "metadata": {},
   "outputs": [
    {
     "name": "stdout",
     "output_type": "stream",
     "text": [
      "Supercell with all sites: \n",
      "Full Formula (Li4 H4 F4)\n",
      "Reduced Formula: LiHF\n",
      "abc   :   4.083428   4.083428   4.083428\n",
      "angles:  90.000000  90.000000  90.000000\n",
      "pbc   :       True       True       True\n",
      "Sites (12)\n",
      "  #  SP        a      b      c  kind_name\n",
      "---  ----  -----  -----  -----  -----------\n",
      "  0  Li    0      0      0\n",
      "  1  F     0      0.5    0\n",
      "  2  Li    0      0.5    0.5\n",
      "  3  F     0      0      0.5\n",
      "  4  Li    0.5    0      0.5\n",
      "  5  F     0.5    0.5    0.5\n",
      "  6  Li    0.5    0.5    0\n",
      "  7  F     0.5    0      0\n",
      "  8  H     0.201  0.001  0.201  H\n",
      "  9  H     0.201  0.201  0.201  H\n",
      " 10  H     0.201  0.201  0.401  H\n",
      " 11  H     0.401  0.201  0.401  H\n"
     ]
    }
   ],
   "source": [
    "# generate all the sites in one unit cell. Useful for visualizing data before submission.\n",
    "\n",
    "# 1 get sc_matrix\n",
    "suggested_size = compute_suggest_supercell_size(structure.get_ase())\n",
    "sc_matrix = [[suggested_size[0], 0,0], [0, suggested_size[1], 0], [0, 0, suggested_size[2]]]\n",
    "## 1.1 actually, for visualization purposes, we can use the unit cell\n",
    "sc_matrix = [[1, 0,0], [0, 1, 0], [0, 0, 1]]\n",
    "\n",
    "\n",
    "# 2 get the muon list\n",
    "mu_spacing = 1\n",
    "mu_list = niche_add_impurities(\n",
    "    structure.get_pymatgen_structure(),\n",
    "    niche_atom = \"H\",\n",
    "    niche_spacing = mu_spacing,\n",
    "    niche_distance = 1, # distance from hosting atoms,\n",
    ")\n",
    "\n",
    "# 3 produce the supercells\n",
    "supc_list = gensup(structure.get_pymatgen_structure(), mu_list, sc_matrix, only_one_cell=True)\n",
    "\n",
    "print(f\"Supercell with all sites: \\n{supc_list[0]}\")\n",
    "# check the results in VESTA, openening the file in "
   ]
  },
  {
   "cell_type": "code",
   "execution_count": 7,
   "metadata": {},
   "outputs": [
    {
     "name": "stdout",
     "output_type": "stream",
     "text": [
      "# generated using pymatgen\n",
      "data_LiHF\n",
      "_symmetry_space_group_name_H-M   'P 1'\n",
      "_cell_length_a   4.08342800\n",
      "_cell_length_b   4.08342800\n",
      "_cell_length_c   4.08342800\n",
      "_cell_angle_alpha   90.00000000\n",
      "_cell_angle_beta   90.00000000\n",
      "_cell_angle_gamma   90.00000000\n",
      "_symmetry_Int_Tables_number   1\n",
      "_chemical_formula_structural   LiHF\n",
      "_chemical_formula_sum   'Li4 H4 F4'\n",
      "_cell_volume   68.08864750\n",
      "_cell_formula_units_Z   4\n",
      "loop_\n",
      " _symmetry_equiv_pos_site_id\n",
      " _symmetry_equiv_pos_as_xyz\n",
      "  1  'x, y, z'\n",
      "loop_\n",
      " _atom_site_type_symbol\n",
      " _atom_site_label\n",
      " _atom_site_symmetry_multiplicity\n",
      " _atom_site_fract_x\n",
      " _atom_site_fract_y\n",
      " _atom_site_fract_z\n",
      " _atom_site_occupancy\n",
      "  Li  Li0  1  0.00000000  0.00000000  0.00000000  1.0\n",
      "  F  F1  1  0.00000000  0.50000000  0.00000000  1.0\n",
      "  Li  Li2  1  0.00000000  0.50000000  0.50000000  1.0\n",
      "  F  F3  1  0.00000000  0.00000000  0.50000000  1.0\n",
      "  Li  Li4  1  0.50000000  0.00000000  0.50000000  1.0\n",
      "  F  F5  1  0.50000000  0.50000000  0.50000000  1.0\n",
      "  Li  Li6  1  0.50000000  0.50000000  0.00000000  1.0\n",
      "  F  F7  1  0.50000000  0.00000000  0.00000000  1.0\n",
      "  H  H8  1  0.20100000  0.00100000  0.20100000  1\n",
      "  H  H9  1  0.20100000  0.20100000  0.20100000  1\n",
      "  H  H10  1  0.20100000  0.20100000  0.40100000  1\n",
      "  H  H11  1  0.40100000  0.20100000  0.40100000  1\n",
      "\n"
     ]
    }
   ],
   "source": [
    "print(supc_list[0].to(fmt=\"cif\"))"
   ]
  },
  {
   "cell_type": "markdown",
   "metadata": {},
   "source": [
    "#### Exporting the results of a FindMuonWorkChain"
   ]
  },
  {
   "cell_type": "code",
   "execution_count": 8,
   "metadata": {},
   "outputs": [],
   "source": [
    "# clustering of the sites after the relaxation\n",
    "\n",
    "# get the list of calculations performed by the FindMuonWorkChain\n",
    "from aiida_muon.utils.export_findmuon import export_findmuon_data\n",
    "\n",
    "findmuon = orm.load_node(26243)"
   ]
  },
  {
   "cell_type": "code",
   "execution_count": 9,
   "metadata": {},
   "outputs": [
    {
     "data": {
      "text/plain": [
       "dict_keys(['table', 'table_all', 'distortions', 'unit_cell', 'unit_cell_all'])"
      ]
     },
     "execution_count": 9,
     "metadata": {},
     "output_type": "execute_result"
    }
   ],
   "source": [
    "exported = export_findmuon_data(findmuon.outputs)\n",
    "exported.keys()"
   ]
  },
  {
   "cell_type": "code",
   "execution_count": 10,
   "metadata": {},
   "outputs": [
    {
     "data": {
      "text/html": [
       "<div>\n",
       "<style scoped>\n",
       "    .dataframe tbody tr th:only-of-type {\n",
       "        vertical-align: middle;\n",
       "    }\n",
       "\n",
       "    .dataframe tbody tr th {\n",
       "        vertical-align: top;\n",
       "    }\n",
       "\n",
       "    .dataframe thead th {\n",
       "        text-align: right;\n",
       "    }\n",
       "</style>\n",
       "<table border=\"1\" class=\"dataframe\">\n",
       "  <thead>\n",
       "    <tr style=\"text-align: right;\">\n",
       "      <th></th>\n",
       "      <th>structure_id_pk</th>\n",
       "      <th>label</th>\n",
       "      <th>delta_E</th>\n",
       "      <th>tot_energy</th>\n",
       "      <th>muon_position_cc</th>\n",
       "      <th>muon_index_global_unitcell</th>\n",
       "      <th>muon_index</th>\n",
       "    </tr>\n",
       "  </thead>\n",
       "  <tbody>\n",
       "    <tr>\n",
       "      <th>1</th>\n",
       "      <td>26303</td>\n",
       "      <td>A</td>\n",
       "      <td>0</td>\n",
       "      <td>-27606892.0</td>\n",
       "      <td>[0.124, 0.0, 0.124]</td>\n",
       "      <td>9</td>\n",
       "      <td>1</td>\n",
       "    </tr>\n",
       "    <tr>\n",
       "      <th>3</th>\n",
       "      <td>26313</td>\n",
       "      <td>B</td>\n",
       "      <td>1</td>\n",
       "      <td>-27606890.5</td>\n",
       "      <td>[0.12, 0.12, 0.248]</td>\n",
       "      <td>11</td>\n",
       "      <td>3</td>\n",
       "    </tr>\n",
       "    <tr>\n",
       "      <th>4</th>\n",
       "      <td>26308</td>\n",
       "      <td>C</td>\n",
       "      <td>331</td>\n",
       "      <td>-27606560.5</td>\n",
       "      <td>[0.175, 0.146, 0.175]</td>\n",
       "      <td>12</td>\n",
       "      <td>4</td>\n",
       "    </tr>\n",
       "    <tr>\n",
       "      <th>2</th>\n",
       "      <td>26298</td>\n",
       "      <td>D</td>\n",
       "      <td>707</td>\n",
       "      <td>-27606184.7</td>\n",
       "      <td>[0.095, 0.095, 0.095]</td>\n",
       "      <td>10</td>\n",
       "      <td>2</td>\n",
       "    </tr>\n",
       "  </tbody>\n",
       "</table>\n",
       "</div>"
      ],
      "text/plain": [
       "  structure_id_pk label delta_E  tot_energy       muon_position_cc  \\\n",
       "1           26303     A       0 -27606892.0    [0.124, 0.0, 0.124]   \n",
       "3           26313     B       1 -27606890.5    [0.12, 0.12, 0.248]   \n",
       "4           26308     C     331 -27606560.5  [0.175, 0.146, 0.175]   \n",
       "2           26298     D     707 -27606184.7  [0.095, 0.095, 0.095]   \n",
       "\n",
       "  muon_index_global_unitcell muon_index  \n",
       "1                          9          1  \n",
       "3                         11          3  \n",
       "4                         12          4  \n",
       "2                         10          2  "
      ]
     },
     "execution_count": 10,
     "metadata": {},
     "output_type": "execute_result"
    }
   ],
   "source": [
    "exported['table']"
   ]
  },
  {
   "cell_type": "code",
   "execution_count": 11,
   "metadata": {},
   "outputs": [
    {
     "data": {
      "text/html": [
       "<div>\n",
       "<style scoped>\n",
       "    .dataframe tbody tr th:only-of-type {\n",
       "        vertical-align: middle;\n",
       "    }\n",
       "\n",
       "    .dataframe tbody tr th {\n",
       "        vertical-align: top;\n",
       "    }\n",
       "\n",
       "    .dataframe thead th {\n",
       "        text-align: right;\n",
       "    }\n",
       "</style>\n",
       "<table border=\"1\" class=\"dataframe\">\n",
       "  <thead>\n",
       "    <tr style=\"text-align: right;\">\n",
       "      <th></th>\n",
       "      <th>structure_id_pk</th>\n",
       "      <th>label</th>\n",
       "      <th>delta_E</th>\n",
       "      <th>tot_energy</th>\n",
       "    </tr>\n",
       "  </thead>\n",
       "  <tbody>\n",
       "    <tr>\n",
       "      <th>1</th>\n",
       "      <td>26303</td>\n",
       "      <td>A</td>\n",
       "      <td>0</td>\n",
       "      <td>-27606892.0</td>\n",
       "    </tr>\n",
       "    <tr>\n",
       "      <th>3</th>\n",
       "      <td>26313</td>\n",
       "      <td>B</td>\n",
       "      <td>1</td>\n",
       "      <td>-27606890.5</td>\n",
       "    </tr>\n",
       "    <tr>\n",
       "      <th>4</th>\n",
       "      <td>26308</td>\n",
       "      <td>C</td>\n",
       "      <td>331</td>\n",
       "      <td>-27606560.5</td>\n",
       "    </tr>\n",
       "    <tr>\n",
       "      <th>2</th>\n",
       "      <td>26298</td>\n",
       "      <td>D</td>\n",
       "      <td>707</td>\n",
       "      <td>-27606184.7</td>\n",
       "    </tr>\n",
       "  </tbody>\n",
       "</table>\n",
       "</div>"
      ],
      "text/plain": [
       "  structure_id_pk label delta_E  tot_energy\n",
       "1           26303     A       0 -27606892.0\n",
       "3           26313     B       1 -27606890.5\n",
       "4           26308     C     331 -27606560.5\n",
       "2           26298     D     707 -27606184.7"
      ]
     },
     "execution_count": 11,
     "metadata": {},
     "output_type": "execute_result"
    }
   ],
   "source": [
    "exported['table_all']"
   ]
  },
  {
   "cell_type": "markdown",
   "metadata": {},
   "source": [
    "#### Dipolar field calculation"
   ]
  },
  {
   "cell_type": "code",
   "execution_count": 12,
   "metadata": {},
   "outputs": [
    {
     "data": {
      "text/plain": [
       "(array([-3.75968269e+00, -1.04548930e-05,  1.69562645e+00]),\n",
       " array([-3.75968269e+00, -1.04548930e-05,  2.69562645e+00]),\n",
       " 4.626188051565715)"
      ]
     },
     "execution_count": 12,
     "metadata": {},
     "output_type": "execute_result"
    }
   ],
   "source": [
    "# dipolar fields\n",
    "\n",
    "from aiida_muon.utils.magnetism import compute_dip_field\n",
    "\n",
    "input_structure = findmuon.inputs.structure.get_pymatgen_structure()\n",
    "relaxed_supercell = orm.load_node(28674).get_pymatgen_structure()\n",
    "\n",
    "# NOTE: the magmoms here are just fake, you should provide the actual magnetic moments if any\n",
    "magmom = [0.0 for _ in range(len(input_structure.sites))] # or findmuon input magmom\n",
    "for i in range(len(input_structure.sites)):\n",
    "    if input_structure.sites[i].species_string == \"F\":\n",
    "        magmom[i] = 2.2\n",
    "sc_mat = [[1, 0,0], [0, 1, 0], [0, 0, 1]]\n",
    "cnt_field = 1 #  put one to just compute the dipolar field\n",
    "\n",
    "compute_dip_field(input_structure, magmom, sc_mat, relaxed_supercell, cnt_field)"
   ]
  },
  {
   "cell_type": "markdown",
   "metadata": {},
   "source": [
    "#### Obtain the distortion induce by the muons"
   ]
  },
  {
   "cell_type": "code",
   "execution_count": 13,
   "metadata": {},
   "outputs": [],
   "source": [
    "# distortions\n",
    "\n",
    "relaxed_supercell = orm.load_node(exported['table'][\"structure_id_pk\"].values[0])\n",
    "unrelaxed_supercell = relaxed_supercell.creator.caller.caller.inputs.structure.get_ase()\n",
    "relaxed_supercell = relaxed_supercell.get_ase()\n",
    "\n",
    "from aiida_muon.utils.export_findmuon import get_distortions\n",
    "\n",
    "distortions = get_distortions(unrelaxed_supercell, relaxed_supercell)"
   ]
  },
  {
   "cell_type": "code",
   "execution_count": 14,
   "metadata": {},
   "outputs": [
    {
     "name": "stdout",
     "output_type": "stream",
     "text": [
      "Element: Li\n",
      "Distance from the muon (unrelaxed): [1.16074987 1.72668177 2.51322637 2.51322637 2.51985229 2.51985229\n",
      " 3.11199813 3.11199813 3.36431598 3.36431598 3.60824185 3.60824185\n",
      " 3.61286009 3.61286009 4.03578847 4.03578847 4.03991798 4.03991798\n",
      " 4.04816438 4.24127053 4.42972521 4.61409838 4.7948609  4.7948609\n",
      " 4.79833719 4.79833719 5.13084475 5.13084475 5.28768924 5.28768924\n",
      " 5.74705754 6.15880989]\n",
      "Distortion: [ 0.69083683  0.12845282  0.06449042  0.06449042  0.05975311  0.05975311\n",
      "  0.20233626  0.20233626 -0.04584143 -0.04584143  0.24390798  0.24390798\n",
      "  0.24099464  0.24099464 -0.17306839 -0.17306839 -0.17564059 -0.17564059\n",
      "  0.37820042  0.09818247 -0.08530955 -0.18373426 -0.00741676 -0.00741676\n",
      " -0.00987795 -0.00987795  0.07715668  0.07715668 -0.07659113 -0.07659113\n",
      "  0.21179347 -0.18723756]\n",
      "\n",
      "Distance from the muon (relaxed): [1.8515867  1.85513459 2.57771679 2.57771679 2.57960539 2.57960539\n",
      " 3.3143344  3.3143344  3.31847455 3.31847455 3.85214983 3.85214983\n",
      " 3.85385472 3.85385472 3.86272008 3.86272008 3.86427739 3.86427739\n",
      " 4.4263648  4.33945301 4.34441566 4.43036412 4.78744413 4.78744413\n",
      " 4.78845924 4.78845924 5.20800143 5.20800143 5.21109811 5.21109811\n",
      " 5.95885101 5.97157234]\n",
      "\n",
      "Element: F\n",
      "Distance from the muon (unrelaxed): [1.47118493 1.47118493 2.34505052 2.35215023 2.6708335  2.67706936\n",
      " 2.9778327  2.9778327  3.48362841 3.48362841 3.71973844 3.71973844\n",
      " 3.72421842 3.72421842 3.93326121 3.93326121 3.93749825 3.93749825\n",
      " 4.33652171 4.33652171 4.34036512 4.34036512 4.53205875 4.53573647\n",
      " 5.04398905 5.04729376 5.0505963  5.0505963  5.36439208 5.36439208\n",
      " 5.95649266 5.95649266]\n",
      "Distortion: [-0.31753536 -0.31753536  0.1646107   0.15906116 -0.15887545 -0.16357497\n",
      "  0.29174565  0.29174565 -0.20837324 -0.20837324  0.05960055  0.05960055\n",
      "  0.05628101  0.05628101 -0.15060757 -0.15060757 -0.15368143 -0.15368143\n",
      " -0.01053242 -0.01053242 -0.05191748 -0.05191748  0.25508411  0.25242335\n",
      " -0.24670922 -0.24901564  0.15943777  0.15943777 -0.14717883 -0.14717883\n",
      " -0.0129329  -0.0129329 ]\n",
      "\n",
      "Distance from the muon (relaxed): [1.15364957 1.15364957 2.50966122 2.51121139 2.51195805 2.51349439\n",
      " 3.26957834 3.26957834 3.27525516 3.27525516 3.77933899 3.77933899\n",
      " 3.78049943 3.78049943 3.78265363 3.78265363 3.78381682 3.78381682\n",
      " 4.32598929 4.32598929 4.28844764 4.28844764 4.78714286 4.78815982\n",
      " 4.79727982 4.79827812 5.21003408 5.21003408 5.21721325 5.21721325\n",
      " 5.94355976 5.94355976]\n",
      "\n"
     ]
    }
   ],
   "source": [
    "for element, distortion in distortions.items():\n",
    "    print(f\"Element: {element}\")\n",
    "    print(f'Distance from the muon (unrelaxed): {distortion[\"atm_distance_init\"]}\\nDistortion: {distortion[\"distortion\"]}\\n')\n",
    "    print(f'Distance from the muon (relaxed): {distortion[\"atm_distance_final\"]}\\n')"
   ]
  },
  {
   "cell_type": "code",
   "execution_count": 15,
   "metadata": {},
   "outputs": [
    {
     "data": {
      "image/png": "[encoded data removed]",
      "text/plain": [
       "<Figure size 640x480 with 1 Axes>"
      ]
     },
     "metadata": {},
     "output_type": "display_data"
    }
   ],
   "source": [
    "import matplotlib.pyplot as plt\n",
    "\n",
    "fig,ax = plt.subplots()\n",
    "\n",
    "for element, distortion in distortions.items():\n",
    "    ax.plot(distortion[\"atm_distance_init\"],distortion[\"distortion\"], 'o', label=element)\n",
    "\n",
    "\n",
    "ax.set_xlabel(\"Distance from the muon (Angstrom)\")\n",
    "ax.set_ylabel(\"Distortion (Angstrom)\")\n",
    "\n",
    "plt.legend()\n",
    "plt.grid()"
   ]
  }
 ],
 "metadata": {
  "kernelspec": {
   "display_name": "base",
   "language": "python",
   "name": "python3"
  },
  "language_info": {
   "codemirror_mode": {
    "name": "ipython",
    "version": 3
   },
   "file_extension": ".py",
   "mimetype": "text/x-python",
   "name": "python",
   "nbconvert_exporter": "python",
   "pygments_lexer": "ipython3",
   "version": "3.9.13"
  }
 },
 "nbformat": 4,
 "nbformat_minor": 2
}
