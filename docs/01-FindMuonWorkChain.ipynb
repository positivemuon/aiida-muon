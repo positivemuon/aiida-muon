{
 "cells": [
  {
   "cell_type": "markdown",
   "metadata": {},
   "source": [
    "# Detecting muon resting sites: the `FindMuonWorkChain`\n",
    "\n",
    "The muon stopping sites are determined using a well defined protocol:\n",
    "\n",
    "1 -  Generate a number $N_\\mu$ of initial muon interstitial sites.\n",
    "2 - Execute  the supercell (SC) convergence sub-workflow (see `IsolatedImpurityWorkChain` of the [aiida-impuritysupercellconv](https://github.com/positivemuon/aiida-impuritysupercellconv) package), unless a given SC size is explicitly provided as input. \n",
    "3 - Execute the structural relaxation of the $N_\\mu$ supercells, typically in parallel, on HPC clusters.   \n",
    "4 - Inspect and ensure that at least 60\\% of the simulations of step III are completed successfully; if not, the workflow stops due to structural convergence failure.  \n",
    "5 - Collect the relaxed structures and their total energies, and cluster distinct stable structures on the basis of symmetry and total energy differences (see ``Unique sites selection'' section).\n",
    "\n",
    "Notably, thanks to the fault tolerant and fault resilient algorithms of the `aiida-quantumespresso` `PwBaseWorkChain`, the workflow in step III  can handle a range of typical errors, such as unconverged SCF calculations or hitting of walltime limits, ensuring that in most cases the calculations finish successfully. In step V, for magnetic compounds, it can happen  that crystallographically equivalent replica of a candidate muon site  may  be magnetically inequivalent. When this happens, step III is reactivated, so that relaxed structures of missing magnetically inequivalent sites are obtained and added to the list. Calculations for the charged supercell for the the Mu$^+$ state (default) and neutral for the \\Mudot~state (optional) are run independently and controlled in the workflow by the Boolean input parameter *charged_supercell*.\n",
    "\n",
    "<img src=\"source/images/aiida_muon_workflow.png\" width=\"800\">\n",
    "\n",
    "\n",
    "\n",
    "## How to prepare and run a simple `FindMuonWorkChain`"
   ]
  },
  {
   "cell_type": "code",
   "execution_count": 1,
   "metadata": {},
   "outputs": [],
   "source": [
    "# Loading the aiida profile.\n",
    "from aiida import load_profile, orm\n",
    "load_profile()\n",
    "\n",
    "# Loading other additional aiida modules.\n",
    "from aiida.engine import submit, run_get_node\n",
    "from aiida.plugins import DataFactory\n",
    "\n",
    "# Loading the pymatgen Structure module; not mandatory.\n",
    "from pymatgen.core import Structure\n",
    "\n",
    "# Loading the WorkChain.\n",
    "from aiida_muon.workflows.find_muon import FindMuonWorkChain"
   ]
  },
  {
   "cell_type": "markdown",
   "metadata": {},
   "source": [
    "### Setting the data\n",
    "\n",
    "Here below we parse the structure, the magnetic moments, and we set some other relevant inputs for the workflow:\n",
    "\n",
    "- sc_matrix=[[[1, 0, 0], [0, 1, 0], [0, 0, 1]]] \n",
    "- mu_spacing=2.0\n",
    "- kpoints_distance=0.801\n",
    "- charge_supercell = True"
   ]
  },
  {
   "cell_type": "code",
   "execution_count": null,
   "metadata": {},
   "outputs": [],
   "source": [
    "# StructureData and magmom.\n",
    "smag1 = Structure.from_file(\"../examples/data/Fe_bcc.mcif\", primitive=False)\n",
    "aiida_structure = orm.StructureData(pymatgen=smag1)\n",
    "\n",
    "magmoms = smag1.site_properties[\"magmom\"]\n",
    "magmom = [list(magmom) for magmom in magmoms]\n",
    "\n",
    "# Supercell Matrix and other relevant inputs.\n",
    "sc_matrix = [[1, 0, 0], [0, 1, 0], [0, 0, 1]]\n",
    "mu_spacing =2.0\n",
    "kpoints_distance = 0.801\n",
    "charge_supercell = True\n",
    "\n",
    "# Codes.\n",
    "codename = \"pw-7.2@localhost\"  # edit \n",
    "code = orm.load_code(codename)\n",
    "pp_codename = \"pp-7.2@localhost\"  # edit \n",
    "pp_code = orm.load_code(pp_codename)\n",
    "\n",
    "# Resources dictionary with a minimal computational settings.\n",
    "resources = {\n",
    "    \"num_machines\": 1,\n",
    "    \"num_mpiprocs_per_machine\": 8,\n",
    "}"
   ]
  },
  {
   "cell_type": "markdown",
   "metadata": {},
   "source": [
    "### (1) Getting the builder from *get_builder_from_protocol()* function."
   ]
  },
  {
   "cell_type": "code",
   "execution_count": 3,
   "metadata": {},
   "outputs": [],
   "source": [
    "builder = FindMuonWorkChain.get_builder_from_protocol(\n",
    "    pw_code=code,\n",
    "    pp_code = pp_code,\n",
    "    structure = aiida_structure,\n",
    "    magmom = magmom,\n",
    "    #sc_matrix = sc_matrix,\n",
    "    mu_spacing = mu_spacing,\n",
    "    kpoints_distance = kpoints_distance,\n",
    "    charge_supercell = charge_supercell,\n",
    "    pseudo_family = \"SSSP/1.3/PBE/efficiency\"\n",
    "    )\n",
    "\n",
    "builder.pwscf.pw.metadata.options.resources = resources\n",
    "builder.pwscf.pw.metadata.options.prepend_text = \"export OMP_NUM_THREADS=1\"\n",
    "\n",
    "builder.relax.base.pw.metadata.options.resources = resources\n",
    "builder.relax.base.pw.metadata.options.prepend_text = \"export OMP_NUM_THREADS=1\"\n",
    "\n",
    "builder.impuritysupercellconv_metadata = {\"options\":{\n",
    "    'resources':resources,\n",
    "    'prepend_text':\"export OMP_NUM_THREADS=1\",\n",
    "    },}\n",
    "\n",
    "builder.pp_metadata = {\"options\":{\n",
    "    'resources':resources,\n",
    "    'prepend_text':\"export OMP_NUM_THREADS=1\",\n",
    "    },}"
   ]
  },
  {
   "cell_type": "markdown",
   "metadata": {},
   "source": [
    "submit the workchain, just run:\n",
    "\n",
    "```python\n",
    "submission = run_get_node(builder)\n",
    "```"
   ]
  },
  {
   "cell_type": "markdown",
   "metadata": {},
   "source": [
    "## How to parse results of a `FindMuonWorkChain`\n",
    "\n",
    "As outputs of the WorkChain, results are collected in several nodes:\n",
    "\n",
    "- *all_index_uuid*: \n",
    "- *all_sites*:\n",
    "- *unique_sites*:\n",
    "- *unique_sites_hyperfine*:\n",
    "- *unique_sites_dipolar* ; returns only when magnetic."
   ]
  }
 ],
 "metadata": {
  "kernelspec": {
   "display_name": "quantum-espresso-7.2",
   "language": "python",
   "name": "python3"
  },
  "language_info": {
   "codemirror_mode": {
    "name": "ipython",
    "version": 3
   },
   "file_extension": ".py",
   "mimetype": "text/x-python",
   "name": "python",
   "nbconvert_exporter": "python",
   "pygments_lexer": "ipython3",
   "version": "3.9.13"
  }
 },
 "nbformat": 4,
 "nbformat_minor": 2
}
